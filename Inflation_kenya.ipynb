{
 "cells": [
  {
   "cell_type": "code",
   "execution_count": 1,
   "id": "ef445cf8-a70d-4638-9d12-3a69ff57b75c",
   "metadata": {},
   "outputs": [],
   "source": [
    "import pandas as pd "
   ]
  },
  {
   "cell_type": "code",
   "execution_count": 2,
   "id": "592d7774-f319-4538-a3c3-ae7ce9e2c689",
   "metadata": {},
   "outputs": [
    {
     "name": "stdout",
     "output_type": "stream",
     "text": [
      "C:\\Users\\HP\\Documents\\Python Scripts\n"
     ]
    }
   ],
   "source": [
    "import os\n",
    "os.chdir(\"C:/Users/HP/Documents/Python Scripts\")  # Change to your desired path\n",
    "print(os.getcwd())"
   ]
  },
  {
   "cell_type": "code",
   "execution_count": 3,
   "id": "685ceb6d-9350-4c0d-85e9-8c68e6169c4d",
   "metadata": {},
   "outputs": [],
   "source": [
    "Inflation_data =pd.read_csv(\"inflation_data.csv\",sep=\"\\t\")"
   ]
  },
  {
   "cell_type": "code",
   "execution_count": 4,
   "id": "b1110a96-94ba-4c71-9996-93518d00b0f7",
   "metadata": {},
   "outputs": [
    {
     "name": "stdout",
     "output_type": "stream",
     "text": [
      "<class 'pandas.core.frame.DataFrame'>\n",
      "RangeIndex: 266 entries, 0 to 265\n",
      "Data columns (total 68 columns):\n",
      " #   Column          Non-Null Count  Dtype  \n",
      "---  ------          --------------  -----  \n",
      " 0   Country Name    266 non-null    object \n",
      " 1   Country Code    266 non-null    object \n",
      " 2   Indicator Name  266 non-null    object \n",
      " 3   Indicator Code  266 non-null    object \n",
      " 4   1960            70 non-null     float64\n",
      " 5   1961            72 non-null     float64\n",
      " 6   1962            74 non-null     float64\n",
      " 7   1963            74 non-null     float64\n",
      " 8   1964            79 non-null     float64\n",
      " 9   1965            86 non-null     float64\n",
      " 10  1966            93 non-null     float64\n",
      " 11  1967            99 non-null     float64\n",
      " 12  1968            100 non-null    float64\n",
      " 13  1969            101 non-null    float64\n",
      " 14  1970            107 non-null    float64\n",
      " 15  1971            111 non-null    float64\n",
      " 16  1972            113 non-null    float64\n",
      " 17  1973            116 non-null    float64\n",
      " 18  1974            118 non-null    float64\n",
      " 19  1975            124 non-null    float64\n",
      " 20  1976            126 non-null    float64\n",
      " 21  1977            131 non-null    float64\n",
      " 22  1978            131 non-null    float64\n",
      " 23  1979            126 non-null    float64\n",
      " 24  1980            133 non-null    float64\n",
      " 25  1981            150 non-null    float64\n",
      " 26  1982            151 non-null    float64\n",
      " 27  1983            151 non-null    float64\n",
      " 28  1984            155 non-null    float64\n",
      " 29  1985            156 non-null    float64\n",
      " 30  1986            164 non-null    float64\n",
      " 31  1987            170 non-null    float64\n",
      " 32  1988            170 non-null    float64\n",
      " 33  1989            173 non-null    float64\n",
      " 34  1990            173 non-null    float64\n",
      " 35  1991            179 non-null    float64\n",
      " 36  1992            187 non-null    float64\n",
      " 37  1993            193 non-null    float64\n",
      " 38  1994            198 non-null    float64\n",
      " 39  1995            202 non-null    float64\n",
      " 40  1996            205 non-null    float64\n",
      " 41  1997            205 non-null    float64\n",
      " 42  1998            205 non-null    float64\n",
      " 43  1999            207 non-null    float64\n",
      " 44  2000            211 non-null    float64\n",
      " 45  2001            216 non-null    float64\n",
      " 46  2002            218 non-null    float64\n",
      " 47  2003            221 non-null    float64\n",
      " 48  2004            222 non-null    float64\n",
      " 49  2005            225 non-null    float64\n",
      " 50  2006            228 non-null    float64\n",
      " 51  2007            230 non-null    float64\n",
      " 52  2008            231 non-null    float64\n",
      " 53  2009            234 non-null    float64\n",
      " 54  2010            236 non-null    float64\n",
      " 55  2011            240 non-null    float64\n",
      " 56  2012            239 non-null    float64\n",
      " 57  2013            238 non-null    float64\n",
      " 58  2014            237 non-null    float64\n",
      " 59  2015            236 non-null    float64\n",
      " 60  2016            236 non-null    float64\n",
      " 61  2017            231 non-null    float64\n",
      " 62  2018            228 non-null    float64\n",
      " 63  2019            228 non-null    float64\n",
      " 64  2020            222 non-null    float64\n",
      " 65  2021            222 non-null    float64\n",
      " 66  2022            221 non-null    float64\n",
      " 67  2023            211 non-null    float64\n",
      "dtypes: float64(64), object(4)\n",
      "memory usage: 141.4+ KB\n"
     ]
    }
   ],
   "source": [
    "Inflation_data.info()"
   ]
  },
  {
   "cell_type": "code",
   "execution_count": 5,
   "id": "f64502f3-d8e8-4b61-b602-bf61d7f06762",
   "metadata": {},
   "outputs": [
    {
     "data": {
      "text/plain": [
       "Index(['Country Name', 'Country Code', 'Indicator Name', 'Indicator Code',\n",
       "       '1960', '1961', '1962', '1963', '1964', '1965', '1966', '1967', '1968',\n",
       "       '1969', '1970', '1971', '1972', '1973', '1974', '1975', '1976', '1977',\n",
       "       '1978', '1979', '1980', '1981', '1982', '1983', '1984', '1985', '1986',\n",
       "       '1987', '1988', '1989', '1990', '1991', '1992', '1993', '1994', '1995',\n",
       "       '1996', '1997', '1998', '1999', '2000', '2001', '2002', '2003', '2004',\n",
       "       '2005', '2006', '2007', '2008', '2009', '2010', '2011', '2012', '2013',\n",
       "       '2014', '2015', '2016', '2017', '2018', '2019', '2020', '2021', '2022',\n",
       "       '2023'],\n",
       "      dtype='object')"
      ]
     },
     "execution_count": 5,
     "metadata": {},
     "output_type": "execute_result"
    }
   ],
   "source": [
    "Inflation_data.columns"
   ]
  },
  {
   "cell_type": "code",
   "execution_count": 6,
   "id": "bc95b751-7eb5-4da3-bdfe-efe52f7e00c1",
   "metadata": {},
   "outputs": [
    {
     "data": {
      "text/plain": [
       "0      False\n",
       "1      False\n",
       "2      False\n",
       "3      False\n",
       "4      False\n",
       "       ...  \n",
       "261    False\n",
       "262    False\n",
       "263    False\n",
       "264    False\n",
       "265    False\n",
       "Name: Country Name, Length: 266, dtype: bool"
      ]
     },
     "execution_count": 6,
     "metadata": {},
     "output_type": "execute_result"
    }
   ],
   "source": [
    "Inflation_data['Country Name']=='kenya'"
   ]
  },
  {
   "cell_type": "code",
   "execution_count": 7,
   "id": "59b04cb1-03a4-4dc9-b70e-5a6fcbb30d4c",
   "metadata": {},
   "outputs": [],
   "source": [
    "Inflation_data_Kenya = Inflation_data[Inflation_data[\"Country Name\"] == 'Kenya']"
   ]
  },
  {
   "cell_type": "code",
   "execution_count": 8,
   "id": "20fcd3e8-365b-4f49-b4bb-ddf666128e19",
   "metadata": {},
   "outputs": [
    {
     "data": {
      "text/html": [
       "<div>\n",
       "<style scoped>\n",
       "    .dataframe tbody tr th:only-of-type {\n",
       "        vertical-align: middle;\n",
       "    }\n",
       "\n",
       "    .dataframe tbody tr th {\n",
       "        vertical-align: top;\n",
       "    }\n",
       "\n",
       "    .dataframe thead th {\n",
       "        text-align: right;\n",
       "    }\n",
       "</style>\n",
       "<table border=\"1\" class=\"dataframe\">\n",
       "  <thead>\n",
       "    <tr style=\"text-align: right;\">\n",
       "      <th></th>\n",
       "      <th>Country Name</th>\n",
       "      <th>Country Code</th>\n",
       "      <th>Indicator Name</th>\n",
       "      <th>Indicator Code</th>\n",
       "      <th>1960</th>\n",
       "      <th>1961</th>\n",
       "      <th>1962</th>\n",
       "      <th>1963</th>\n",
       "      <th>1964</th>\n",
       "      <th>1965</th>\n",
       "      <th>...</th>\n",
       "      <th>2014</th>\n",
       "      <th>2015</th>\n",
       "      <th>2016</th>\n",
       "      <th>2017</th>\n",
       "      <th>2018</th>\n",
       "      <th>2019</th>\n",
       "      <th>2020</th>\n",
       "      <th>2021</th>\n",
       "      <th>2022</th>\n",
       "      <th>2023</th>\n",
       "    </tr>\n",
       "  </thead>\n",
       "  <tbody>\n",
       "    <tr>\n",
       "      <th>121</th>\n",
       "      <td>Kenya</td>\n",
       "      <td>KEN</td>\n",
       "      <td>Inflation, consumer prices (annual %)</td>\n",
       "      <td>FP.CPI.TOTL.ZG</td>\n",
       "      <td>1.243781</td>\n",
       "      <td>2.457002</td>\n",
       "      <td>3.117506</td>\n",
       "      <td>0.697674</td>\n",
       "      <td>-0.099305</td>\n",
       "      <td>3.578529</td>\n",
       "      <td>...</td>\n",
       "      <td>6.878155</td>\n",
       "      <td>6.582154</td>\n",
       "      <td>6.29725</td>\n",
       "      <td>8.00565</td>\n",
       "      <td>4.689806</td>\n",
       "      <td>5.239638</td>\n",
       "      <td>5.405162</td>\n",
       "      <td>6.107936</td>\n",
       "      <td>7.659863</td>\n",
       "      <td>7.671396</td>\n",
       "    </tr>\n",
       "  </tbody>\n",
       "</table>\n",
       "<p>1 rows × 68 columns</p>\n",
       "</div>"
      ],
      "text/plain": [
       "    Country Name Country Code                         Indicator Name  \\\n",
       "121        Kenya          KEN  Inflation, consumer prices (annual %)   \n",
       "\n",
       "     Indicator Code      1960      1961      1962      1963      1964  \\\n",
       "121  FP.CPI.TOTL.ZG  1.243781  2.457002  3.117506  0.697674 -0.099305   \n",
       "\n",
       "         1965  ...      2014      2015     2016     2017      2018      2019  \\\n",
       "121  3.578529  ...  6.878155  6.582154  6.29725  8.00565  4.689806  5.239638   \n",
       "\n",
       "         2020      2021      2022      2023  \n",
       "121  5.405162  6.107936  7.659863  7.671396  \n",
       "\n",
       "[1 rows x 68 columns]"
      ]
     },
     "execution_count": 8,
     "metadata": {},
     "output_type": "execute_result"
    }
   ],
   "source": [
    "Inflation_data_Kenya"
   ]
  },
  {
   "cell_type": "code",
   "execution_count": 9,
   "id": "8f4cc8db-2291-4c9b-8e4d-6ac40285389c",
   "metadata": {},
   "outputs": [
    {
     "data": {
      "text/html": [
       "<div>\n",
       "<style scoped>\n",
       "    .dataframe tbody tr th:only-of-type {\n",
       "        vertical-align: middle;\n",
       "    }\n",
       "\n",
       "    .dataframe tbody tr th {\n",
       "        vertical-align: top;\n",
       "    }\n",
       "\n",
       "    .dataframe thead th {\n",
       "        text-align: right;\n",
       "    }\n",
       "</style>\n",
       "<table border=\"1\" class=\"dataframe\">\n",
       "  <thead>\n",
       "    <tr style=\"text-align: right;\">\n",
       "      <th></th>\n",
       "      <th>1960</th>\n",
       "      <th>1961</th>\n",
       "      <th>1962</th>\n",
       "      <th>1963</th>\n",
       "      <th>1964</th>\n",
       "      <th>1965</th>\n",
       "      <th>1966</th>\n",
       "      <th>1967</th>\n",
       "      <th>1968</th>\n",
       "      <th>1969</th>\n",
       "      <th>...</th>\n",
       "      <th>2014</th>\n",
       "      <th>2015</th>\n",
       "      <th>2016</th>\n",
       "      <th>2017</th>\n",
       "      <th>2018</th>\n",
       "      <th>2019</th>\n",
       "      <th>2020</th>\n",
       "      <th>2021</th>\n",
       "      <th>2022</th>\n",
       "      <th>2023</th>\n",
       "    </tr>\n",
       "  </thead>\n",
       "  <tbody>\n",
       "    <tr>\n",
       "      <th>121</th>\n",
       "      <td>1.243781</td>\n",
       "      <td>2.457002</td>\n",
       "      <td>3.117506</td>\n",
       "      <td>0.697674</td>\n",
       "      <td>-0.099305</td>\n",
       "      <td>3.578529</td>\n",
       "      <td>5.014395</td>\n",
       "      <td>1.759196</td>\n",
       "      <td>0.366712</td>\n",
       "      <td>-0.171501</td>\n",
       "      <td>...</td>\n",
       "      <td>6.878155</td>\n",
       "      <td>6.582154</td>\n",
       "      <td>6.29725</td>\n",
       "      <td>8.00565</td>\n",
       "      <td>4.689806</td>\n",
       "      <td>5.239638</td>\n",
       "      <td>5.405162</td>\n",
       "      <td>6.107936</td>\n",
       "      <td>7.659863</td>\n",
       "      <td>7.671396</td>\n",
       "    </tr>\n",
       "  </tbody>\n",
       "</table>\n",
       "<p>1 rows × 64 columns</p>\n",
       "</div>"
      ],
      "text/plain": [
       "         1960      1961      1962      1963      1964      1965      1966  \\\n",
       "121  1.243781  2.457002  3.117506  0.697674 -0.099305  3.578529  5.014395   \n",
       "\n",
       "         1967      1968      1969  ...      2014      2015     2016     2017  \\\n",
       "121  1.759196  0.366712 -0.171501  ...  6.878155  6.582154  6.29725  8.00565   \n",
       "\n",
       "         2018      2019      2020      2021      2022      2023  \n",
       "121  4.689806  5.239638  5.405162  6.107936  7.659863  7.671396  \n",
       "\n",
       "[1 rows x 64 columns]"
      ]
     },
     "execution_count": 9,
     "metadata": {},
     "output_type": "execute_result"
    }
   ],
   "source": [
    "Inflation_data_Kenya.drop(columns=['Country Name','Country Code','Indicator Name','Indicator Code'])"
   ]
  },
  {
   "cell_type": "code",
   "execution_count": 11,
   "id": "64a39995-3fc1-4f3e-b0f6-425e7a7583fe",
   "metadata": {},
   "outputs": [
    {
     "data": {
      "text/html": [
       "<div>\n",
       "<style scoped>\n",
       "    .dataframe tbody tr th:only-of-type {\n",
       "        vertical-align: middle;\n",
       "    }\n",
       "\n",
       "    .dataframe tbody tr th {\n",
       "        vertical-align: top;\n",
       "    }\n",
       "\n",
       "    .dataframe thead th {\n",
       "        text-align: right;\n",
       "    }\n",
       "</style>\n",
       "<table border=\"1\" class=\"dataframe\">\n",
       "  <thead>\n",
       "    <tr style=\"text-align: right;\">\n",
       "      <th></th>\n",
       "      <th>Inflation</th>\n",
       "    </tr>\n",
       "  </thead>\n",
       "  <tbody>\n",
       "    <tr>\n",
       "      <th>2019</th>\n",
       "      <td>5.239638</td>\n",
       "    </tr>\n",
       "    <tr>\n",
       "      <th>2020</th>\n",
       "      <td>5.405162</td>\n",
       "    </tr>\n",
       "    <tr>\n",
       "      <th>2021</th>\n",
       "      <td>6.107936</td>\n",
       "    </tr>\n",
       "    <tr>\n",
       "      <th>2022</th>\n",
       "      <td>7.659863</td>\n",
       "    </tr>\n",
       "    <tr>\n",
       "      <th>2023</th>\n",
       "      <td>7.671396</td>\n",
       "    </tr>\n",
       "  </tbody>\n",
       "</table>\n",
       "</div>"
      ],
      "text/plain": [
       "     Inflation\n",
       "2019  5.239638\n",
       "2020  5.405162\n",
       "2021  6.107936\n",
       "2022  7.659863\n",
       "2023  7.671396"
      ]
     },
     "execution_count": 11,
     "metadata": {},
     "output_type": "execute_result"
    }
   ],
   "source": [
    "# Transpose the DataFrame so years become the index\n",
    "Inflation_Kenya = Inflation_data_Kenya.transpose()\n",
    "# Rename the columns for clarity (optional)\n",
    "Inflation_Kenya.columns = ['Inflation']\n",
    "\n",
    "Inflation_Kenya.tail()"
   ]
  }
 ],
 "metadata": {
  "kernelspec": {
   "display_name": "Python 3 (ipykernel)",
   "language": "python",
   "name": "python3"
  },
  "language_info": {
   "codemirror_mode": {
    "name": "ipython",
    "version": 3
   },
   "file_extension": ".py",
   "mimetype": "text/x-python",
   "name": "python",
   "nbconvert_exporter": "python",
   "pygments_lexer": "ipython3",
   "version": "3.12.7"
  }
 },
 "nbformat": 4,
 "nbformat_minor": 5
}
