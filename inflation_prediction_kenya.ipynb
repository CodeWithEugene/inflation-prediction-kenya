{
 "cells": [
  {
   "cell_type": "code",
   "execution_count": 12,
   "id": "40012a23-86f7-4c49-ac0e-02ebe478514f",
   "metadata": {},
   "outputs": [],
   "source": [
    "# import pandas library\n",
    "import pandas as pd"
   ]
  },
  {
   "cell_type": "code",
   "execution_count": 18,
   "id": "b6343a9f-27b0-494f-8e2d-e087a55cc9f5",
   "metadata": {
    "panel-layout": {
     "height": 0,
     "visible": true,
     "width": 100
    }
   },
   "outputs": [],
   "source": [
    "# load the data\n",
    "data = pd.read_csv(\"inflation_consumer_index_data.csv\", sep=';', skiprows=4)"
   ]
  },
  {
   "cell_type": "code",
   "execution_count": 19,
   "id": "84258388-6266-4efc-bf64-3e1c5f68283f",
   "metadata": {
    "panel-layout": {
     "height": 0,
     "visible": true,
     "width": 100
    }
   },
   "outputs": [],
   "source": [
    "# handling missing values using forward fill\n",
    "data.ffill(inplace=True)"
   ]
  },
  {
   "cell_type": "code",
   "execution_count": 25,
   "id": "7b404a93",
   "metadata": {},
   "outputs": [
    {
     "name": "stdout",
     "output_type": "stream",
     "text": [
      "Index(['Country Name,\"Country Code\",\"Indicator Name\",\"Indicator Code\",\"1960\",\"1961\",\"1962\",\"1963\",\"1964\",\"1965\",\"1966\",\"1967\",\"1968\",\"1969\",\"1970\",\"1971\",\"1972\",\"1973\",\"1974\",\"1975\",\"1976\",\"1977\",\"1978\",\"1979\",\"1980\",\"1981\",\"1982\",\"1983\",\"1984\",\"1985\",\"1986\",\"1987\",\"1988\",\"1989\",\"1990\",\"1991\",\"1992\",\"1993\",\"1994\",\"1995\",\"1996\",\"1997\",\"1998\",\"1999\",\"2000\",\"2001\",\"2002\",\"2003\",\"2004\",\"2005\",\"2006\",\"2007\",\"2008\",\"2009\",\"2010\",\"2011\",\"2012\",\"2013\",\"2014\",\"2015\",\"2016\",\"2017\",\"2018\",\"2019\",\"2020\",\"2021\",\"2022\",\"2023\",'], dtype='object')\n",
      "  Country Name,\"Country Code\",\"Indicator Name\",\"Indicator Code\",\"1960\",\"1961\",\"1962\",\"1963\",\"1964\",\"1965\",\"1966\",\"1967\",\"1968\",\"1969\",\"1970\",\"1971\",\"1972\",\"1973\",\"1974\",\"1975\",\"1976\",\"1977\",\"1978\",\"1979\",\"1980\",\"1981\",\"1982\",\"1983\",\"1984\",\"1985\",\"1986\",\"1987\",\"1988\",\"1989\",\"1990\",\"1991\",\"1992\",\"1993\",\"1994\",\"1995\",\"1996\",\"1997\",\"1998\",\"1999\",\"2000\",\"2001\",\"2002\",\"2003\",\"2004\",\"2005\",\"2006\",\"2007\",\"2008\",\"2009\",\"2010\",\"2011\",\"2012\",\"2013\",\"2014\",\"2015\",\"2016\",\"2017\",\"2018\",\"2019\",\"2020\",\"2021\",\"2022\",\"2023\",\n",
      "0  Aruba,\"ABW\",\"Inflation, consumer prices (annua...                                                                                                                                                                                                                                                                                                                                                                                                                                                                            \n",
      "1  Africa Eastern and Southern,\"AFE\",\"Inflation, ...                                                                                                                                                                                                                                                                                                                                                                                                                                                                            \n",
      "2  Afghanistan,\"AFG\",\"Inflation, consumer prices ...                                                                                                                                                                                                                                                                                                                                                                                                                                                                            \n",
      "3  Africa Western and Central,\"AFW\",\"Inflation, c...                                                                                                                                                                                                                                                                                                                                                                                                                                                                            \n",
      "4  Angola,\"AGO\",\"Inflation, consumer prices (annu...                                                                                                                                                                                                                                                                                                                                                                                                                                                                            \n"
     ]
    }
   ],
   "source": [
    "import pandas as pd\n",
    "data = pd.read_csv('inflation_consumer_index_data.csv', sep=';', skiprows=4, quotechar='\"')  # Replace with your file name\n",
    "print(data.columns)\n",
    "print(data.head())"
   ]
  },
  {
   "cell_type": "code",
   "execution_count": 26,
   "id": "0d3b3c57",
   "metadata": {},
   "outputs": [
    {
     "name": "stdout",
     "output_type": "stream",
     "text": [
      "         Country Name,\"Country Code                         Indicator Name  \\\n",
      "0                        Aruba,\"ABW  Inflation, consumer prices (annual %)   \n",
      "1  Africa Eastern and Southern,\"AFE  Inflation, consumer prices (annual %)   \n",
      "2                  Afghanistan,\"AFG  Inflation, consumer prices (annual %)   \n",
      "3   Africa Western and Central,\"AFW  Inflation, consumer prices (annual %)   \n",
      "4                       Angola,\"AGO  Inflation, consumer prices (annual %)   \n",
      "\n",
      "   Indicator Code 1960 1961 1962 1963 1964 1965 1966  ...               2014  \\\n",
      "0  FP.CPI.TOTL.ZG                                     ...  0.421440918881214   \n",
      "1  FP.CPI.TOTL.ZG                                     ...   5.37028961008587   \n",
      "2  FP.CPI.TOTL.ZG                                     ...   4.67399603536305   \n",
      "3  FP.CPI.TOTL.ZG                                     ...   1.76843582146219   \n",
      "4  FP.CPI.TOTL.ZG                                     ...   7.28038730361121   \n",
      "\n",
      "                2015                2016               2017  \\\n",
      "0  0.474763597342641  -0.931195987079561  -1.02828178762012   \n",
      "1   5.24587835022454    6.57139642173964   6.39934341569381   \n",
      "2  -0.66170916471352    4.38389195513893   4.97595150553892   \n",
      "3   2.13081738058791    1.48741550755546   1.72548602374723   \n",
      "4   9.35597215533784    30.6944150806719   29.8444799015679   \n",
      "\n",
      "                2018              2019              2020              2021  \\\n",
      "0   3.62604141352961  4.25746204335428                                       \n",
      "1   4.72080474200535  4.65366473106483  5.40516207933392  7.24097765588442   \n",
      "2  0.626149149168983  2.30237251516819                                       \n",
      "3   1.78404994832039  1.98309228487231  2.49037783931944  3.74570045027355   \n",
      "4   19.6289379701521   17.080954143438   22.271539247051  25.7542948841891   \n",
      "\n",
      "               2022              2023\",  \n",
      "0                                    \",  \n",
      "1  10.7737512242899  7.12697482131851\",  \n",
      "2                                    \",  \n",
      "3  7.94925143524016  4.95305034506872\",  \n",
      "4  21.3552901320822  13.6441017767715\",  \n",
      "\n",
      "[5 rows x 67 columns]\n"
     ]
    }
   ],
   "source": [
    "# If the first column contains the mashed-up string\n",
    "column_names = data.columns[0].split('\",\"')\n",
    "# Clean up any extra quotes\n",
    "column_names = [name.strip('\"') for name in column_names]\n",
    "# If the data rows are also mashed up, split them too\n",
    "data = data.iloc[:, 0].str.split('\",\"', expand=True)\n",
    "data.columns = column_names\n",
    "print(data.head())"
   ]
  },
  {
   "cell_type": "code",
   "execution_count": null,
   "id": "0c661383",
   "metadata": {},
   "outputs": [
    {
     "name": "stdout",
     "output_type": "stream",
     "text": [
      "Column names after split: ['Country Name']\n",
      "Columns after initial assignment: ['Country Name']\n"
     ]
    },
    {
     "ename": "ValueError",
     "evalue": "Columns must be same length as key",
     "output_type": "error",
     "traceback": [
      "\u001b[0;31m---------------------------------------------------------------------------\u001b[0m",
      "\u001b[0;31mValueError\u001b[0m                                Traceback (most recent call last)",
      "Cell \u001b[0;32mIn[30], line 15\u001b[0m\n\u001b[1;32m     12\u001b[0m \u001b[38;5;28mprint\u001b[39m(\u001b[38;5;124m\"\u001b[39m\u001b[38;5;124mColumns after initial assignment:\u001b[39m\u001b[38;5;124m\"\u001b[39m, data\u001b[38;5;241m.\u001b[39mcolumns\u001b[38;5;241m.\u001b[39mtolist())\n\u001b[1;32m     14\u001b[0m \u001b[38;5;66;03m# Split the first column into Country Name and Country Code\u001b[39;00m\n\u001b[0;32m---> 15\u001b[0m \u001b[43mdata\u001b[49m\u001b[43m[\u001b[49m\u001b[43m[\u001b[49m\u001b[38;5;124;43m'\u001b[39;49m\u001b[38;5;124;43mCountry Name\u001b[39;49m\u001b[38;5;124;43m'\u001b[39;49m\u001b[43m,\u001b[49m\u001b[43m \u001b[49m\u001b[38;5;124;43m'\u001b[39;49m\u001b[38;5;124;43mCountry Code\u001b[39;49m\u001b[38;5;124;43m'\u001b[39;49m\u001b[43m]\u001b[49m\u001b[43m]\u001b[49m \u001b[38;5;241m=\u001b[39m data\u001b[38;5;241m.\u001b[39miloc[:, \u001b[38;5;241m0\u001b[39m]\u001b[38;5;241m.\u001b[39mstr\u001b[38;5;241m.\u001b[39msplit(\u001b[38;5;124m'\u001b[39m\u001b[38;5;124m,\u001b[39m\u001b[38;5;124m'\u001b[39m, n\u001b[38;5;241m=\u001b[39m\u001b[38;5;241m1\u001b[39m, expand\u001b[38;5;241m=\u001b[39m\u001b[38;5;28;01mTrue\u001b[39;00m)\n\u001b[1;32m     16\u001b[0m data[\u001b[38;5;124m'\u001b[39m\u001b[38;5;124mCountry Code\u001b[39m\u001b[38;5;124m'\u001b[39m] \u001b[38;5;241m=\u001b[39m data[\u001b[38;5;124m'\u001b[39m\u001b[38;5;124mCountry Code\u001b[39m\u001b[38;5;124m'\u001b[39m]\u001b[38;5;241m.\u001b[39mstr\u001b[38;5;241m.\u001b[39mstrip(\u001b[38;5;124m'\u001b[39m\u001b[38;5;124m\"\u001b[39m\u001b[38;5;124m'\u001b[39m)\n\u001b[1;32m     18\u001b[0m \u001b[38;5;66;03m# Drop the original first column\u001b[39;00m\n",
      "File \u001b[0;32m~/.local/lib/python3.12/site-packages/pandas/core/frame.py:4299\u001b[0m, in \u001b[0;36mDataFrame.__setitem__\u001b[0;34m(self, key, value)\u001b[0m\n\u001b[1;32m   4297\u001b[0m     \u001b[38;5;28mself\u001b[39m\u001b[38;5;241m.\u001b[39m_setitem_frame(key, value)\n\u001b[1;32m   4298\u001b[0m \u001b[38;5;28;01melif\u001b[39;00m \u001b[38;5;28misinstance\u001b[39m(key, (Series, np\u001b[38;5;241m.\u001b[39mndarray, \u001b[38;5;28mlist\u001b[39m, Index)):\n\u001b[0;32m-> 4299\u001b[0m     \u001b[38;5;28;43mself\u001b[39;49m\u001b[38;5;241;43m.\u001b[39;49m\u001b[43m_setitem_array\u001b[49m\u001b[43m(\u001b[49m\u001b[43mkey\u001b[49m\u001b[43m,\u001b[49m\u001b[43m \u001b[49m\u001b[43mvalue\u001b[49m\u001b[43m)\u001b[49m\n\u001b[1;32m   4300\u001b[0m \u001b[38;5;28;01melif\u001b[39;00m \u001b[38;5;28misinstance\u001b[39m(value, DataFrame):\n\u001b[1;32m   4301\u001b[0m     \u001b[38;5;28mself\u001b[39m\u001b[38;5;241m.\u001b[39m_set_item_frame_value(key, value)\n",
      "File \u001b[0;32m~/.local/lib/python3.12/site-packages/pandas/core/frame.py:4341\u001b[0m, in \u001b[0;36mDataFrame._setitem_array\u001b[0;34m(self, key, value)\u001b[0m\n\u001b[1;32m   4336\u001b[0m \u001b[38;5;28;01melse\u001b[39;00m:\n\u001b[1;32m   4337\u001b[0m     \u001b[38;5;66;03m# Note: unlike self.iloc[:, indexer] = value, this will\u001b[39;00m\n\u001b[1;32m   4338\u001b[0m     \u001b[38;5;66;03m#  never try to overwrite values inplace\u001b[39;00m\n\u001b[1;32m   4340\u001b[0m     \u001b[38;5;28;01mif\u001b[39;00m \u001b[38;5;28misinstance\u001b[39m(value, DataFrame):\n\u001b[0;32m-> 4341\u001b[0m         \u001b[43mcheck_key_length\u001b[49m\u001b[43m(\u001b[49m\u001b[38;5;28;43mself\u001b[39;49m\u001b[38;5;241;43m.\u001b[39;49m\u001b[43mcolumns\u001b[49m\u001b[43m,\u001b[49m\u001b[43m \u001b[49m\u001b[43mkey\u001b[49m\u001b[43m,\u001b[49m\u001b[43m \u001b[49m\u001b[43mvalue\u001b[49m\u001b[43m)\u001b[49m\n\u001b[1;32m   4342\u001b[0m         \u001b[38;5;28;01mfor\u001b[39;00m k1, k2 \u001b[38;5;129;01min\u001b[39;00m \u001b[38;5;28mzip\u001b[39m(key, value\u001b[38;5;241m.\u001b[39mcolumns):\n\u001b[1;32m   4343\u001b[0m             \u001b[38;5;28mself\u001b[39m[k1] \u001b[38;5;241m=\u001b[39m value[k2]\n",
      "File \u001b[0;32m~/.local/lib/python3.12/site-packages/pandas/core/indexers/utils.py:390\u001b[0m, in \u001b[0;36mcheck_key_length\u001b[0;34m(columns, key, value)\u001b[0m\n\u001b[1;32m    388\u001b[0m \u001b[38;5;28;01mif\u001b[39;00m columns\u001b[38;5;241m.\u001b[39mis_unique:\n\u001b[1;32m    389\u001b[0m     \u001b[38;5;28;01mif\u001b[39;00m \u001b[38;5;28mlen\u001b[39m(value\u001b[38;5;241m.\u001b[39mcolumns) \u001b[38;5;241m!=\u001b[39m \u001b[38;5;28mlen\u001b[39m(key):\n\u001b[0;32m--> 390\u001b[0m         \u001b[38;5;28;01mraise\u001b[39;00m \u001b[38;5;167;01mValueError\u001b[39;00m(\u001b[38;5;124m\"\u001b[39m\u001b[38;5;124mColumns must be same length as key\u001b[39m\u001b[38;5;124m\"\u001b[39m)\n\u001b[1;32m    391\u001b[0m \u001b[38;5;28;01melse\u001b[39;00m:\n\u001b[1;32m    392\u001b[0m     \u001b[38;5;66;03m# Missing keys in columns are represented as -1\u001b[39;00m\n\u001b[1;32m    393\u001b[0m     \u001b[38;5;28;01mif\u001b[39;00m \u001b[38;5;28mlen\u001b[39m(columns\u001b[38;5;241m.\u001b[39mget_indexer_non_unique(key)[\u001b[38;5;241m0\u001b[39m]) \u001b[38;5;241m!=\u001b[39m \u001b[38;5;28mlen\u001b[39m(value\u001b[38;5;241m.\u001b[39mcolumns):\n",
      "\u001b[0;31mValueError\u001b[0m: Columns must be same length as key"
     ]
    }
   ],
   "source": [
    "import pandas as pd\n",
    "\n",
    "# Split the column names\n",
    "column_names = data.columns[0].split('\",\"')\n",
    "column_names = [name.strip('\"') for name in column_names]\n",
    "print(\"Column names after split:\", column_names)\n",
    "\n",
    "# Split the data rows\n",
    "data = data.iloc[:, 0].str.split('\",\"', expand=True)\n",
    "data.columns = column_names\n",
    "print(\"Columns after initial assignment:\", data.columns.tolist())\n",
    "\n",
    "# Inspect the first column before splitting\n",
    "print(\"First column sample:\", data.iloc[:, 0].head().tolist())\n",
    "\n",
    "# Split the first column into Country Name and Country Code, handling inconsistencies\n",
    "split_data = data.iloc[:, 0].str.split(',', n=1, expand=True)\n",
    "# Ensure we have at least 2 columns, filling with None if needed\n",
    "if split_data.shape[1] < 2:\n",
    "    split_data[1] = None  # Add a second column if split only produced one\n",
    "\n",
    "# Assign to new columns\n",
    "data[['Country Name', 'Country Code']] = split_data\n",
    "data['Country Code'] = data['Country Code'].str.strip('\"')\n",
    "\n",
    "# Drop the original first column\n",
    "data = data.drop(data.columns[0], axis=1)\n",
    "print(\"Columns after dropping first column:\", data.columns.tolist())\n",
    "\n",
    "# Check and clean the last column (likely '2023')\n",
    "if '2023' in data.columns:\n",
    "    data['2023'] = data['2023'].str.rstrip('\",')\n",
    "else:\n",
    "    print(\"Column '2023' not found. Last column might be:\", data.columns[-1])\n",
    "    data[data.columns[-1]] = data[data.columns[-1]].str.rstrip('\",')\n",
    "\n",
    "# Convert year columns to numeric\n",
    "year_cols = [col for col in data.columns if col.isdigit()]\n",
    "data[year_cols] = data[year_cols].apply(pd.to_numeric, errors='coerce')\n",
    "\n",
    "# Display\n",
    "print(data.head())"
   ]
  },
  {
   "cell_type": "code",
   "execution_count": 27,
   "id": "70307558",
   "metadata": {},
   "outputs": [
    {
     "name": "stdout",
     "output_type": "stream",
     "text": [
      "<class 'pandas.core.frame.DataFrame'>\n",
      "RangeIndex: 266 entries, 0 to 265\n",
      "Data columns (total 67 columns):\n",
      " #   Column                      Non-Null Count  Dtype \n",
      "---  ------                      --------------  ----- \n",
      " 0   Country Name,\"Country Code  266 non-null    object\n",
      " 1   Indicator Name              266 non-null    object\n",
      " 2   Indicator Code              266 non-null    object\n",
      " 3   1960                        266 non-null    object\n",
      " 4   1961                        266 non-null    object\n",
      " 5   1962                        266 non-null    object\n",
      " 6   1963                        266 non-null    object\n",
      " 7   1964                        266 non-null    object\n",
      " 8   1965                        266 non-null    object\n",
      " 9   1966                        266 non-null    object\n",
      " 10  1967                        266 non-null    object\n",
      " 11  1968                        266 non-null    object\n",
      " 12  1969                        266 non-null    object\n",
      " 13  1970                        266 non-null    object\n",
      " 14  1971                        266 non-null    object\n",
      " 15  1972                        266 non-null    object\n",
      " 16  1973                        266 non-null    object\n",
      " 17  1974                        266 non-null    object\n",
      " 18  1975                        266 non-null    object\n",
      " 19  1976                        266 non-null    object\n",
      " 20  1977                        266 non-null    object\n",
      " 21  1978                        266 non-null    object\n",
      " 22  1979                        266 non-null    object\n",
      " 23  1980                        266 non-null    object\n",
      " 24  1981                        266 non-null    object\n",
      " 25  1982                        266 non-null    object\n",
      " 26  1983                        266 non-null    object\n",
      " 27  1984                        266 non-null    object\n",
      " 28  1985                        266 non-null    object\n",
      " 29  1986                        266 non-null    object\n",
      " 30  1987                        266 non-null    object\n",
      " 31  1988                        266 non-null    object\n",
      " 32  1989                        266 non-null    object\n",
      " 33  1990                        266 non-null    object\n",
      " 34  1991                        266 non-null    object\n",
      " 35  1992                        266 non-null    object\n",
      " 36  1993                        266 non-null    object\n",
      " 37  1994                        266 non-null    object\n",
      " 38  1995                        266 non-null    object\n",
      " 39  1996                        266 non-null    object\n",
      " 40  1997                        266 non-null    object\n",
      " 41  1998                        266 non-null    object\n",
      " 42  1999                        266 non-null    object\n",
      " 43  2000                        266 non-null    object\n",
      " 44  2001                        266 non-null    object\n",
      " 45  2002                        266 non-null    object\n",
      " 46  2003                        266 non-null    object\n",
      " 47  2004                        266 non-null    object\n",
      " 48  2005                        266 non-null    object\n",
      " 49  2006                        266 non-null    object\n",
      " 50  2007                        266 non-null    object\n",
      " 51  2008                        266 non-null    object\n",
      " 52  2009                        266 non-null    object\n",
      " 53  2010                        266 non-null    object\n",
      " 54  2011                        266 non-null    object\n",
      " 55  2012                        266 non-null    object\n",
      " 56  2013                        266 non-null    object\n",
      " 57  2014                        266 non-null    object\n",
      " 58  2015                        266 non-null    object\n",
      " 59  2016                        266 non-null    object\n",
      " 60  2017                        266 non-null    object\n",
      " 61  2018                        266 non-null    object\n",
      " 62  2019                        266 non-null    object\n",
      " 63  2020                        266 non-null    object\n",
      " 64  2021                        266 non-null    object\n",
      " 65  2022                        266 non-null    object\n",
      " 66  2023\",                      266 non-null    object\n",
      "dtypes: object(67)\n",
      "memory usage: 139.4+ KB\n"
     ]
    }
   ],
   "source": [
    "data.info()"
   ]
  }
 ],
 "metadata": {
  "kernelspec": {
   "display_name": "Python 3 (ipykernel)",
   "language": "python",
   "name": "python3"
  },
  "panel-cell-order": [
   "b6343a9f-27b0-494f-8e2d-e087a55cc9f5",
   "84258388-6266-4efc-bf64-3e1c5f68283f",
   "bd969d13-abbe-489e-8ee0-3c2ad9cfbe53",
   "c9b3c093-1efc-43f2-8a8e-c86f871f1d18"
  ]
 },
 "nbformat": 4,
 "nbformat_minor": 5
}
